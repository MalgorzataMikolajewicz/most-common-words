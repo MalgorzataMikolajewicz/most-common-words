{
 "cells": [
  {
   "cell_type": "code",
   "execution_count": 11,
   "id": "beautiful-lending",
   "metadata": {},
   "outputs": [
    {
     "name": "stdin",
     "output_type": "stream",
     "text": [
      "Enter the web address to get the essential words https://www.degruyter.com/document/doi/10.1515/cclm-2017-0287/html\n",
      "How many essential words to print? 15\n"
     ]
    },
    {
     "name": "stdout",
     "output_type": "stream",
     "text": [
      "['model' 'data' 'ml' 'laboratori' 'predict' 'search' 'googl' 'test'\n",
      " 'scholar' 'learn' 'machin' 'use' 'medicin' 'valu' 'evalu']\n"
     ]
    },
    {
     "data": {
      "image/png": "[encoded data removed]",
      "text/plain": [
       "<Figure size 720x432 with 1 Axes>"
      ]
     },
     "metadata": {
      "needs_background": "light"
     },
     "output_type": "display_data"
    }
   ],
   "source": [
    "import nltk\n",
    "import numpy as np\n",
    "import requests\n",
    "from bs4 import BeautifulSoup\n",
    "import re\n",
    "import string\n",
    "from urllib.request import urlopen\n",
    "import matplotlib.pyplot as plt\n",
    "%matplotlib inline\n",
    "\n",
    "htmls = input('Enter the web address to get the essential words'),\n",
    "\n",
    "def parse(url):        \n",
    "    x = urlopen(url).read()\n",
    "    x = BeautifulSoup(x, 'lxml').find_all(\"p\")\n",
    "    return(x)\n",
    "\n",
    "articles = [parse(url) for url in htmls]\n",
    "articles = [\" \".join([str(paragraph) for paragraph in article]) for article in articles]\n",
    "articles = [re.sub('<.+?>', ' ', a) for a in articles]\n",
    "articles = [re.sub('{.+?}', ' ', a) for a in articles]\n",
    "articles = [re.sub('\\n', ' ', a) for a in articles]\n",
    "articles = [re.sub('\\t', ' ', a) for a in articles]\n",
    "articles = [a.lower() for a in articles]\n",
    "#nltk.download()\n",
    "articles = [nltk.word_tokenize(a) for a in articles]\n",
    "\n",
    "stopwords = nltk.corpus.stopwords.words(\"english\")\n",
    "\n",
    "articles_new = [[word for word in a if (word not in stopwords)] for a in articles]\n",
    "\n",
    "stemmer = nltk.PorterStemmer()\n",
    "articles_new = [[stemmer.stem(word) for word in a] for a in articles_new]\n",
    "articles_new = [\" \".join(a) for a in articles_new]\n",
    "\n",
    "punk_table = str.maketrans({key: None for key in string.punctuation})\n",
    "articles_new = [a.translate(punk_table) for a in articles_new]\n",
    "\n",
    "digits_table = str.maketrans({key: None for key in string.digits})\n",
    "articles_new = [a.translate(digits_table) for a in articles_new]\n",
    "\n",
    "from sklearn.feature_extraction.text import CountVectorizer\n",
    "cv = CountVectorizer()\n",
    "dtm = cv.fit(articles_new)\n",
    "arts_encoded = dtm.transform(articles_new)\n",
    "\n",
    "k = int(input('How many essential words to print?'))\n",
    "feature_names = np.array(dtm.get_feature_names())\n",
    "for i in range(len(articles_new)):\n",
    "    # sort the words in ascending order in terms of their occurrence and get their indices\n",
    "    sorted_idxs = arts_encoded.getrow(i).todense().A.argsort().ravel()\n",
    "    # take the best k and reverse the order\n",
    "    best_idxs = sorted_idxs[-k:][::-1] # the fastest way to reverse the list\n",
    "    # print the words corresponding to the indexes\n",
    "    print(feature_names[best_idxs])\n",
    "    \n",
    "    # create graphs of the count of the most common words \n",
    "    plt.figure(figsize=(10, 6))\n",
    "    plt.bar(feature_names[best_idxs], arts_encoded.getrow(i).todense().A.ravel()[best_idxs])\n",
    "    plt.xticks(rotation=90)\n",
    "    \n"
   ]
  }
 ],
 "metadata": {
  "kernelspec": {
   "display_name": "Python 3",
   "language": "python",
   "name": "python3"
  },
  "language_info": {
   "codemirror_mode": {
    "name": "ipython",
    "version": 3
   },
   "file_extension": ".py",
   "mimetype": "text/x-python",
   "name": "python",
   "nbconvert_exporter": "python",
   "pygments_lexer": "ipython3",
   "version": "3.8.1"
  }
 },
 "nbformat": 4,
 "nbformat_minor": 5
}
