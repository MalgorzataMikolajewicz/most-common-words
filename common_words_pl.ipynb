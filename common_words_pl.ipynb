{
 "cells": [
  {
   "cell_type": "code",
   "execution_count": 3,
   "id": "egyptian-communication",
   "metadata": {},
   "outputs": [
    {
     "name": "stdin",
     "output_type": "stream",
     "text": [
      "Enter the web address to get the essential words https://baginskistomatologia.pl/\n",
      "How many essential words to print? 8\n"
     ]
    },
    {
     "name": "stdout",
     "output_type": "stream",
     "text": [
      "['sprawdź' 'lek' 'dent' 'stom' 'hig' 'stomatologicznej' 'specjalista'\n",
      " 'państwa']\n"
     ]
    },
    {
     "data": {
      "image/png": "[encoded data removed]",
      "text/plain": [
       "<Figure size 720x432 with 1 Axes>"
      ]
     },
     "metadata": {
      "needs_background": "light"
     },
     "output_type": "display_data"
    }
   ],
   "source": [
    "import nltk\n",
    "import numpy as np\n",
    "import requests\n",
    "from bs4 import BeautifulSoup\n",
    "import re\n",
    "import string\n",
    "from urllib.request import urlopen\n",
    "import matplotlib.pyplot as plt\n",
    "%matplotlib inline\n",
    "\n",
    "htmls = input('Enter the web address to get the essential words'),\n",
    "\n",
    "def parse(url):        \n",
    "    x = urlopen(url).read()\n",
    "    x = BeautifulSoup(x, 'lxml').find_all(\"p\")\n",
    "    return(x)\n",
    "\n",
    "articles = [parse(url) for url in htmls]\n",
    "articles = [\" \".join([str(paragraph) for paragraph in article]) for article in articles]\n",
    "articles = [re.sub('<.+?>', ' ', a) for a in articles]\n",
    "articles = [re.sub('{.+?}', ' ', a) for a in articles]\n",
    "articles = [re.sub('\\n', ' ', a) for a in articles]\n",
    "articles = [re.sub('\\t', ' ', a) for a in articles]\n",
    "articles = [a.lower() for a in articles]\n",
    "#nltk.download()\n",
    "articles = [nltk.word_tokenize(a) for a in articles]\n",
    "\n",
    "stopwords_polish = ['część','głównie', 'wyjątkiem','niekiedy','ich', 'brak', 'ponadto','.', '–', 'a', 'aby', 'ach', 'acz', 'adres', 'aczkolwiek', 'aj', 'albo', 'ale', 'alez', 'ależ', 'ani', 'az', 'aż', 'bardziej', 'bardzo', 'beda', 'bedzie', 'bez', 'deda', 'będą', 'bede', 'będę', 'będzie', 'będziemy', 'bo', 'bowiem', 'by', 'byc', 'być', 'byl', 'byla', 'byli', 'byliśmy', 'bylibyśmy', 'bylo', 'byly', 'był', 'była', 'było', 'były', 'bym', 'bynajmniej', 'cala', 'cali', 'caly', 'cała', 'cały', 'ci', 'cie', 'ciebie', 'cię', 'co', 'cokolwiek', 'cos', 'coś', 'czasami', 'czasem', 'czemu', 'czy', 'czyli', 'daleko', 'dla', 'dlaczego', 'dlatego', 'do', 'dobrze', 'dokad', 'dokąd', 'dosc', 'dość', 'duzo', 'duży', 'duże', 'duża', 'dużo', 'dwa', 'dwaj', 'dwie', 'dwoje', 'dwóch', 'dwoch', 'dzis', 'dzisiaj', 'dziś', 'email', 'e-mail', 'gdy', 'gdyby', 'gdybym', 'gdybyś', 'gdyz', 'gdyż', 'gdzie', 'gdziekolwiek', 'gdzies', 'gdzieś', 'go', 'i', 'ii', 'iii', 'iv', 'v', 'vi', 'vii', 'viii', 'ix', 'x', 'xx', 'xxi', 'ile', 'im', 'imię', 'inna', 'inne', 'inny', 'innych', 'iz', 'iż', 'ja', 'jak', 'jakas', 'jakaś', 'jakby', 'jaki', 'jakichs', 'jakichś', 'jakie', 'jakis', 'jakiś', 'jakiz', 'jakiż', 'jakkolwiek', 'jako', 'jakos', 'jakoś', 'ją', 'je', 'jeden', 'jedna', 'jednak', 'jednakze', 'jednakże', 'jedno', 'jego', 'jej', 'jemu', 'jesli', 'jest', 'jestem', 'jesteś', 'jeszcze', 'jeśli', 'jezeli', 'jeżeli', 'juz', 'już', 'kazdy', 'każdy', 'kiedy', 'kilka', 'kims', 'kimś', 'komentarz', 'kto', 'ktokolwiek', 'ktora', 'ktore', 'ktorego', 'ktorej', 'ktory', 'ktorych', 'ktorym', 'ktorzy', 'ktos', 'ktoś', 'która', 'które', 'którego', 'której', 'który', 'których', 'którym', 'którzy', 'ku', 'lat', 'lecz', 'lub', 'ma', 'mają', 'mało', 'mam', 'mi', 'miedzy', 'między', 'mimo', 'mna', 'mną', 'mnie', 'moga', 'mogą', 'moi', 'moim', 'moj', 'moja', 'moje', 'moze', 'mozliwe', 'mozna', 'może', 'możliwe', 'można', 'mój', 'mu', 'musi', 'my', 'na', 'nad', 'nam', 'nami', 'nas', 'nasi', 'nasz', 'nasza', 'nasze', 'naszego', 'naszych', 'natomiast', 'natychmiast', 'nawet', 'nia', 'nią', 'nic', 'nich', 'nie', 'niech', 'niego', 'niej', 'niemu', 'nigdy', 'nim', 'nimi', 'niz', 'niż', 'no', 'o', 'obok', 'od', 'około', 'on', 'ona', 'one', 'oni', 'ono', 'oraz', 'oto', 'owszem', 'pan', 'pana', 'pani', 'po', 'pod', 'podczas', 'pomimo', 'ponad', 'poniewaz', 'ponieważ', 'powinien', 'powinna', 'powinni', 'powinno', 'poza', 'prawie', 'przeciez', 'przecież', 'przed', 'przede', 'przedtem', 'przez', 'przy', 'r', 'r.', '-', 'roku', 'rowniez', 'również', 'sam', 'sama', 'są', 'sie', 'się', 'skad', 'skąd', 'soba', 'sobą', 'sobie', 'sposob', 'sposób', 'strona', 'swoje', 'ta', 'tak', 'taka', 'taki', 'takie', 'takze', 'także', 'tam', 'te', 'tego', 'tej', 'ten', 'teraz', 'też', 'to', 'toba', 'tobą', 'tobie', 'totez', 'toteż', 'totobą', 'trzeba', 'tu', 'tutaj', 'twoi', 'twoim', 'twoj', 'twoja', 'twoje', 'twój', 'twym', 'ty', 'tych', 'tylko', 'tym', 'u', 'w', 'w.', 'www', 'wam', 'wami', 'was', 'wasz', 'wasza', 'wasze', 'we', 'według', 'wiek', 'wieku', 'wieki', 'wiele', 'wielu', 'więc', 'więcej', 'wlasnie', 'właśnie', 'wszyscy', 'wszystkich', 'wszystkie', 'wszystkim', 'wszystko', 'wtedy', 'wy', 'z', 'za', 'zaden', 'zadna', 'zadne', 'zadnych', 'zapewne', 'zawsze', 'ze', 'zeby', 'zeznowu', 'zł', 'znow', 'znowu', 'znów', 'zostal', 'zostać', 'zostanie', 'zostaną', 'został', 'została', 'zostały', 'żaden', 'żadna', 'żadne', 'żadnych', 'że', 'żeby']\n",
    "\n",
    "articles_new = [[word for word in a if (word not in stopwords_polish)] for a in articles]\n",
    "\n",
    "#stemmer = nltk.PorterStemmer()\n",
    "#articles_new = [[stemmer.stem(word) for word in a] for a in articles_new]\n",
    "articles_new = [\" \".join(a) for a in articles_new]\n",
    "\n",
    "punk_table = str.maketrans({key: None for key in string.punctuation})\n",
    "articles_new = [a.translate(punk_table) for a in articles_new]\n",
    "\n",
    "digits_table = str.maketrans({key: None for key in string.digits})\n",
    "articles_new = [a.translate(digits_table) for a in articles_new]\n",
    "\n",
    "from sklearn.feature_extraction.text import CountVectorizer\n",
    "cv = CountVectorizer()\n",
    "dtm = cv.fit(articles_new)\n",
    "arts_encoded = dtm.transform(articles_new)\n",
    "\n",
    "k = int(input('How many essential words to print?'))\n",
    "feature_names = np.array(dtm.get_feature_names())\n",
    "for i in range(len(articles_new)):\n",
    "    # sort the words in ascending order in terms of their occurrence and get their indices\n",
    "    sorted_idxs = arts_encoded.getrow(i).todense().A.argsort().ravel()\n",
    "    # take the best k and reverse the order\n",
    "    best_idxs = sorted_idxs[-k:][::-1] # the fastest way to reverse the list\n",
    "    # print the words corresponding to the indexes\n",
    "    print(feature_names[best_idxs])\n",
    "    \n",
    "    # create graphs of the count of the most common words \n",
    "    plt.figure(figsize=(10, 6))\n",
    "    plt.bar(feature_names[best_idxs], arts_encoded.getrow(i).todense().A.ravel()[best_idxs])\n",
    "    plt.xticks(rotation=90)"
   ]
  }
 ],
 "metadata": {
  "kernelspec": {
   "display_name": "Python 3",
   "language": "python",
   "name": "python3"
  },
  "language_info": {
   "codemirror_mode": {
    "name": "ipython",
    "version": 3
   },
   "file_extension": ".py",
   "mimetype": "text/x-python",
   "name": "python",
   "nbconvert_exporter": "python",
   "pygments_lexer": "ipython3",
   "version": "3.8.1"
  }
 },
 "nbformat": 4,
 "nbformat_minor": 5
}
